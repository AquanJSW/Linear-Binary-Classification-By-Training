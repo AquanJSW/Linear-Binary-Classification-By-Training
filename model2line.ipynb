{
 "cells": [
  {
   "cell_type": "code",
   "execution_count": null,
   "metadata": {},
   "outputs": [],
   "source": [
    "import numpy as np\n",
    "import torch\n",
    "import dataset.dataset as dataset"
   ]
  },
  {
   "cell_type": "code",
   "execution_count": null,
   "metadata": {},
   "outputs": [],
   "source": [
    "datapath = 'data/dataset_test.bin'\n",
    "dataset_ = dataset.load_dataset(datapath)"
   ]
  },
  {
   "cell_type": "code",
   "execution_count": null,
   "metadata": {},
   "outputs": [],
   "source": [
    "from model.Linear import Linear\n",
    "modelpath = 'checkpoints/bestmodel.pts'\n",
    "model = Linear()\n",
    "model.load_state_dict(torch.load(modelpath))\n",
    "weight = model.get_parameter('_linear.weight').detach().numpy()\n",
    "bias = model.get_parameter('_linear.bias').detach().numpy()"
   ]
  },
  {
   "cell_type": "code",
   "execution_count": null,
   "metadata": {},
   "outputs": [],
   "source": [
    "# visualization\n",
    "import matplotlib.pyplot as plt\n",
    "import sys\n",
    "print(sys.path)\n",
    "from dataset.linear_equation import LinearEquation\n",
    "x = np.linspace(0, 10)\n",
    "y_gt = LinearEquation(dataset_['a'], dataset_['b'], dataset_['c']).solve_y(x)\n",
    "y_pred = LinearEquation(weight[0][0], weight[0][1], bias).solve_y(x)\n",
    "fig, ax = plt.subplots(1, 1)\n",
    "ax.plot(x, y_gt, '-')\n",
    "ax.plot(x, y_pred, '+')\n",
    "plt.xlim(0, 10)\n",
    "plt.show()"
   ]
  }
 ],
 "metadata": {
  "interpreter": {
   "hash": "48b35769e34cd2c836ac16edd56fe98822f190fb2842b6439918ebededd7ee35"
  },
  "kernelspec": {
   "display_name": "Python 3.8.10 ('base')",
   "language": "python",
   "name": "python3"
  },
  "language_info": {
   "codemirror_mode": {
    "name": "ipython",
    "version": 3
   },
   "file_extension": ".py",
   "mimetype": "text/x-python",
   "name": "python",
   "nbconvert_exporter": "python",
   "pygments_lexer": "ipython3",
   "version": "3.8.10"
  },
  "orig_nbformat": 4
 },
 "nbformat": 4,
 "nbformat_minor": 2
}
